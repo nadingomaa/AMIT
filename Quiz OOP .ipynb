{
 "cells": [
  {
   "cell_type": "markdown",
   "id": "1b7e756f-cdf2-4102-ae1e-fe8b43849c66",
   "metadata": {},
   "source": [
    "# I need a Game for Car \n",
    "\n",
    "when i input start print \"I'm ready to go \"\n",
    "\n",
    "when i input stop print \"Car stop\"\n",
    "\n",
    "when i input Quit stop the game \n",
    "\n",
    "and add help to help him in this choise if he didn't know --> like a massage to till him"
   ]
  },
  {
   "cell_type": "code",
   "execution_count": 1,
   "id": "63f4576d-ed25-4fb9-832a-399567f38269",
   "metadata": {},
   "outputs": [
    {
     "name": "stdout",
     "output_type": "stream",
     "text": [
      "please write start,stop or quit\n"
     ]
    },
    {
     "name": "stdin",
     "output_type": "stream",
     "text": [
      "start the car game  start\n"
     ]
    },
    {
     "name": "stdout",
     "output_type": "stream",
     "text": [
      "I'm ready to go \n"
     ]
    }
   ],
   "source": [
    "print(\"please write start,stop or quit\")\n",
    "play=input(\"start the car game \")\n",
    "if play=='start':\n",
    "    print(\"I'm ready to go \")\n",
    "elif play=='stop':\n",
    "    print(\"Car stop\")\n",
    "elif play=='quit':\n",
    "    pass\n",
    "else:\n",
    "    print(\"invalid input..please write start,stop or quit\")      "
   ]
  },
  {
   "cell_type": "code",
   "execution_count": null,
   "id": "9b7f388f-f528-408a-b201-702f85824e76",
   "metadata": {},
   "outputs": [],
   "source": []
  },
  {
   "cell_type": "code",
   "execution_count": null,
   "id": "7351790d-e194-42a3-b2c6-acd84a3da816",
   "metadata": {},
   "outputs": [],
   "source": []
  },
  {
   "cell_type": "markdown",
   "id": "66397f40-91a5-4c2b-a612-094a6732e697",
   "metadata": {},
   "source": [
    "# I need math game \n",
    "\n",
    "when i choise any number give my the maltiplcation of it like \n",
    "\n",
    "1*1=1\n",
    "\n",
    "1*2=2\n",
    "\n",
    "1*3=3\n",
    "\n",
    "so on ..."
   ]
  },
  {
   "cell_type": "code",
   "execution_count": 2,
   "id": "2bf90b39-06e4-4cdf-9c3a-667649a1b356",
   "metadata": {},
   "outputs": [
    {
     "name": "stdin",
     "output_type": "stream",
     "text": [
      "start the number game  6\n"
     ]
    },
    {
     "name": "stdout",
     "output_type": "stream",
     "text": [
      "1*1=1\n",
      "1*2=2\n",
      "1*3=3\n",
      "1*4=4\n",
      "1*5=5\n",
      "1*6=6\n"
     ]
    }
   ],
   "source": [
    "try :\n",
    "    number = int(input(\"start the number game \"))\n",
    "    for i in range(1,number+1):\n",
    "            print(f\"1*{i}={i}\")\n",
    "except ValueError:\n",
    "     print(\"please insert integer number\")"
   ]
  },
  {
   "cell_type": "markdown",
   "id": "713f9b31-0a7e-44a5-93c6-f2fb277d365e",
   "metadata": {},
   "source": [
    "# Note"
   ]
  },
  {
   "cell_type": "markdown",
   "id": "20ebb7a5-0599-4bd5-b3a3-ad40761943da",
   "metadata": {},
   "source": [
    "### To help you i need a class that have both this game and anther function in this class make me choise what i need to play the car game or math game "
   ]
  },
  {
   "cell_type": "code",
   "execution_count": 3,
   "id": "a8685501-82b7-483d-9198-3148e02e9c7a",
   "metadata": {},
   "outputs": [],
   "source": [
    "class Game:\n",
    "   \n",
    "    #numbergame\n",
    "    @staticmethod\n",
    "    def number_game():\n",
    "        print(\"----------------please write Number--------------------------\")\n",
    "        try :\n",
    "            number = int(input(\"start the number game \"))\n",
    "            for i in range(1,number+1):\n",
    "                    print(f\"1*{i}={i}\")\n",
    "                    \n",
    "        except ValueError:\n",
    "            print(\"----------------please insert integer number-----------------------\")\n",
    "            Game.number_game()\n",
    "                \n",
    "    #cargame\n",
    "    @staticmethod\n",
    "    def car_game():\n",
    "        print(\"please write start,stop or quit\")\n",
    "        play= input(\"start the car game \")\n",
    "        if play=='start':\n",
    "            print(\"I'm ready to go \")\n",
    "        elif play=='stop':\n",
    "            print(\"Car stop\")\n",
    "        elif play=='quit':\n",
    "            pass\n",
    "        else:\n",
    "            print(\"----------------invalid input..please write start,stop or quit----------------\")\n",
    "            Game.car_game()\n",
    "        \n",
    "    #choosegame\n",
    "    @staticmethod\n",
    "    def choose_game():\n",
    "        print(\"----------------please write 1 for number game or 2 for car game ----------------\")\n",
    "        game=int(input(\"choose the game\"))\n",
    "        if game == 1 :\n",
    "            Game.number_game()\n",
    "        elif game == 2 :\n",
    "            Game.car_game()\n",
    "        else:\n",
    "            print(\"-----------------invalid input..please write 1 or 2 ---------------\") \n",
    "            Game.choose_game()\n",
    "        \n",
    "        "
   ]
  },
  {
   "cell_type": "code",
   "execution_count": 4,
   "id": "8e8180ff-bb0a-4096-b74c-04d19562faf5",
   "metadata": {},
   "outputs": [],
   "source": [
    "game=Game()"
   ]
  },
  {
   "cell_type": "code",
   "execution_count": 5,
   "id": "9e32b7ca-821a-4365-89c6-c836b69cff16",
   "metadata": {},
   "outputs": [
    {
     "name": "stdout",
     "output_type": "stream",
     "text": [
      "----------------please write 1 for number game or 2 for car game ----------------\n"
     ]
    },
    {
     "name": "stdin",
     "output_type": "stream",
     "text": [
      "choose the game 1\n"
     ]
    },
    {
     "name": "stdout",
     "output_type": "stream",
     "text": [
      "----------------please write Number--------------------------\n"
     ]
    },
    {
     "name": "stdin",
     "output_type": "stream",
     "text": [
      "start the number game  7\n"
     ]
    },
    {
     "name": "stdout",
     "output_type": "stream",
     "text": [
      "1*1=1\n",
      "1*2=2\n",
      "1*3=3\n",
      "1*4=4\n",
      "1*5=5\n",
      "1*6=6\n",
      "1*7=7\n"
     ]
    }
   ],
   "source": [
    "game.choose_game()"
   ]
  },
  {
   "cell_type": "code",
   "execution_count": 6,
   "id": "fd2875f7-d920-49bc-976a-f35527b28c9b",
   "metadata": {},
   "outputs": [
    {
     "name": "stdout",
     "output_type": "stream",
     "text": [
      "----------------please write 1 for number game or 2 for car game ----------------\n"
     ]
    },
    {
     "name": "stdin",
     "output_type": "stream",
     "text": [
      "choose the game 2\n"
     ]
    },
    {
     "name": "stdout",
     "output_type": "stream",
     "text": [
      "please write start,stop or quit\n"
     ]
    },
    {
     "name": "stdin",
     "output_type": "stream",
     "text": [
      "start the car game  stop\n"
     ]
    },
    {
     "name": "stdout",
     "output_type": "stream",
     "text": [
      "Car stop\n"
     ]
    }
   ],
   "source": [
    "game.choose_game()"
   ]
  },
  {
   "cell_type": "code",
   "execution_count": null,
   "id": "07054bb4-d104-4f8d-b97e-ba7e88749e56",
   "metadata": {},
   "outputs": [
    {
     "name": "stdout",
     "output_type": "stream",
     "text": [
      "----------------please write 1 for number game or 2 for car game ----------------\n"
     ]
    },
    {
     "name": "stdin",
     "output_type": "stream",
     "text": [
      "choose the game 4\n"
     ]
    },
    {
     "name": "stdout",
     "output_type": "stream",
     "text": [
      "-----------------invalid input..please write 1 or 2 ---------------\n",
      "----------------please write 1 for number game or 2 for car game ----------------\n"
     ]
    }
   ],
   "source": [
    "game.choose_game()"
   ]
  },
  {
   "cell_type": "code",
   "execution_count": null,
   "id": "9e5a86e1-3493-46f1-8599-a38e98ddb642",
   "metadata": {},
   "outputs": [],
   "source": []
  }
 ],
 "metadata": {
  "kernelspec": {
   "display_name": "Python 3 (ipykernel)",
   "language": "python",
   "name": "python3"
  },
  "language_info": {
   "codemirror_mode": {
    "name": "ipython",
    "version": 3
   },
   "file_extension": ".py",
   "mimetype": "text/x-python",
   "name": "python",
   "nbconvert_exporter": "python",
   "pygments_lexer": "ipython3",
   "version": "3.10.9"
  }
 },
 "nbformat": 4,
 "nbformat_minor": 5
}
