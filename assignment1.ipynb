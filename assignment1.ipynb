{
 "cells": [
  {
   "cell_type": "code",
   "execution_count": 1,
   "id": "4807fae4-aff8-438f-af17-11b7d6bcba34",
   "metadata": {},
   "outputs": [],
   "source": [
    "import numpy as np"
   ]
  },
  {
   "cell_type": "markdown",
   "id": "4d125304-374a-41f2-a9de-51870f276345",
   "metadata": {
    "tags": []
   },
   "source": [
    "Q1- Write a NumPy program to test whether none of the elements of a given array is zero"
   ]
  },
  {
   "cell_type": "code",
   "execution_count": 2,
   "id": "eaad9ab4-1fca-42a3-9b3a-efe3123f5ad4",
   "metadata": {},
   "outputs": [],
   "source": [
    "def question1(arr):\n",
    "    check=np.all(np.array(arr))\n",
    "    if check:\n",
    "        return 'no zero'\n",
    "    else:\n",
    "        return 'contain zero'"
   ]
  },
  {
   "cell_type": "code",
   "execution_count": 3,
   "id": "bd01fb90-0b63-4c50-a06a-2112b07f6c56",
   "metadata": {},
   "outputs": [
    {
     "data": {
      "text/plain": [
       "'contain zero'"
      ]
     },
     "execution_count": 3,
     "metadata": {},
     "output_type": "execute_result"
    }
   ],
   "source": [
    "check1=question1([1,0,3,4])\n",
    "\n",
    "check1"
   ]
  },
  {
   "cell_type": "markdown",
   "id": "3cd827b1-49fb-40f0-9466-3821a3d84b73",
   "metadata": {},
   "source": [
    "Q2- Write a NumPy program to test whether any of the elements of a given array is non-zero"
   ]
  },
  {
   "cell_type": "code",
   "execution_count": 4,
   "id": "70b513ec-db9b-464d-afa8-660fbec84600",
   "metadata": {},
   "outputs": [],
   "source": [
    "def question2(arr):\n",
    "    check=np.any(np.array(arr))\n",
    "    if check:\n",
    "        return 'contain non-zero'\n",
    "    else:\n",
    "        return 'no non-zero'"
   ]
  },
  {
   "cell_type": "code",
   "execution_count": 5,
   "id": "77b8e36c-3596-4515-88ff-bc3bf23c866d",
   "metadata": {},
   "outputs": [
    {
     "data": {
      "text/plain": [
       "'contain non-zero'"
      ]
     },
     "execution_count": 5,
     "metadata": {},
     "output_type": "execute_result"
    }
   ],
   "source": [
    "check2=question2([0,2,0])\n",
    "\n",
    "check2"
   ]
  },
  {
   "cell_type": "markdown",
   "id": "4f4e9ca7-8a5b-482d-a7e3-c6aab4d5cd91",
   "metadata": {},
   "source": [
    "Q3- Write a NumPy program to create an element-wise comparison (equal, equal within a tolerance) of two\n",
    "given "
   ]
  },
  {
   "cell_type": "code",
   "execution_count": 6,
   "id": "f839574d-5445-4f7a-be15-5ba80ea82c85",
   "metadata": {},
   "outputs": [],
   "source": [
    "def question3(arr1,arr2):\n",
    "    arr1=np.array(arr1)\n",
    "    arr2=np.array(arr2)\n",
    "    assert arr1.shape==arr2.shape ,'cant compare'\n",
    "    equal=np.equal(arr1,arr2)\n",
    "    equal_tolerance=np.allclose(arr1,arr2)\n",
    "    return equal,equal_tolerance\n",
    "\n",
    "equal,equal_tolerance=question3([0,2,3,5.9999999999999999],[0,2,3,6])"
   ]
  },
  {
   "cell_type": "code",
   "execution_count": 7,
   "id": "58ede0a4-adac-47ab-92ec-d7a41e7f2d70",
   "metadata": {},
   "outputs": [
    {
     "data": {
      "text/plain": [
       "array([ True,  True,  True,  True])"
      ]
     },
     "execution_count": 7,
     "metadata": {},
     "output_type": "execute_result"
    }
   ],
   "source": [
    "equal"
   ]
  },
  {
   "cell_type": "code",
   "execution_count": 8,
   "id": "50b519c2-f698-46a1-9f15-dd9d79c8102e",
   "metadata": {},
   "outputs": [
    {
     "data": {
      "text/plain": [
       "True"
      ]
     },
     "execution_count": 8,
     "metadata": {},
     "output_type": "execute_result"
    }
   ],
   "source": [
    "equal_tolerance"
   ]
  },
  {
   "cell_type": "markdown",
   "id": "0b1e0d4e-1b26-4504-968c-fdd1656df2ee",
   "metadata": {},
   "source": [
    "Q4- Write a NumPy program to create an array of 10 zeros,10 ones, 10 fives"
   ]
  },
  {
   "cell_type": "code",
   "execution_count": 9,
   "id": "85405d22-0cde-4c93-a42a-b8fc65411fae",
   "metadata": {},
   "outputs": [],
   "source": [
    "def question4():\n",
    "    zeros=np.zeros(10)\n",
    "    ones=np.ones(10)\n",
    "    fives=ones*5\n",
    "    return zeros,ones,fives\n",
    "\n",
    "zeros,ones,fives=question4()"
   ]
  },
  {
   "cell_type": "code",
   "execution_count": 10,
   "id": "f7ea2962-93bc-4d87-b696-ebdd291d2e98",
   "metadata": {},
   "outputs": [
    {
     "data": {
      "text/plain": [
       "array([0., 0., 0., 0., 0., 0., 0., 0., 0., 0.])"
      ]
     },
     "execution_count": 10,
     "metadata": {},
     "output_type": "execute_result"
    }
   ],
   "source": [
    "zeros"
   ]
  },
  {
   "cell_type": "code",
   "execution_count": 11,
   "id": "19e8e390-45fd-4d00-ab60-05ad07ef744f",
   "metadata": {},
   "outputs": [
    {
     "data": {
      "text/plain": [
       "array([1., 1., 1., 1., 1., 1., 1., 1., 1., 1.])"
      ]
     },
     "execution_count": 11,
     "metadata": {},
     "output_type": "execute_result"
    }
   ],
   "source": [
    "ones"
   ]
  },
  {
   "cell_type": "code",
   "execution_count": 12,
   "id": "12403169-0c83-4aaf-8d59-8e77ecfb8c52",
   "metadata": {},
   "outputs": [
    {
     "data": {
      "text/plain": [
       "array([5., 5., 5., 5., 5., 5., 5., 5., 5., 5.])"
      ]
     },
     "execution_count": 12,
     "metadata": {},
     "output_type": "execute_result"
    }
   ],
   "source": [
    "fives"
   ]
  },
  {
   "cell_type": "markdown",
   "id": "ad3024f1-86ea-4c01-9477-a1f95bb02d87",
   "metadata": {},
   "source": [
    "Q5- Write a NumPy program to create an array of the integers from 30 to70"
   ]
  },
  {
   "cell_type": "code",
   "execution_count": 13,
   "id": "57774450-6bbc-4b7d-9ea1-2f45c1e8c2cb",
   "metadata": {},
   "outputs": [],
   "source": [
    "def question5():\n",
    "    return np.array(range(30,71))\n",
    "\n",
    "arr_q5=question5()"
   ]
  },
  {
   "cell_type": "code",
   "execution_count": 14,
   "id": "a43e6679-e7f5-484e-aa78-5ab5e2141f47",
   "metadata": {},
   "outputs": [
    {
     "data": {
      "text/plain": [
       "array([30, 31, 32, 33, 34, 35, 36, 37, 38, 39, 40, 41, 42, 43, 44, 45, 46,\n",
       "       47, 48, 49, 50, 51, 52, 53, 54, 55, 56, 57, 58, 59, 60, 61, 62, 63,\n",
       "       64, 65, 66, 67, 68, 69, 70])"
      ]
     },
     "execution_count": 14,
     "metadata": {},
     "output_type": "execute_result"
    }
   ],
   "source": [
    "arr_q5"
   ]
  },
  {
   "cell_type": "markdown",
   "id": "6d583b27-5ca9-4198-ac4f-d02e31850ef7",
   "metadata": {},
   "source": [
    "Q6- Write a NumPy program to create a 3x3 identity matrix "
   ]
  },
  {
   "cell_type": "code",
   "execution_count": 15,
   "id": "3c429bc5-8a0f-44ec-be3b-b1771867d6d8",
   "metadata": {},
   "outputs": [],
   "source": [
    "def question6():\n",
    "    return np.identity(3)\n",
    "    \n",
    "i=question6()"
   ]
  },
  {
   "cell_type": "code",
   "execution_count": 16,
   "id": "0405f41a-dc62-403e-a308-191085abf0ac",
   "metadata": {},
   "outputs": [
    {
     "data": {
      "text/plain": [
       "array([[1., 0., 0.],\n",
       "       [0., 1., 0.],\n",
       "       [0., 0., 1.]])"
      ]
     },
     "execution_count": 16,
     "metadata": {},
     "output_type": "execute_result"
    }
   ],
   "source": [
    "i"
   ]
  },
  {
   "cell_type": "markdown",
   "id": "41806d62-368f-44fd-874a-414a0851b09a",
   "metadata": {},
   "source": [
    "Q7- Write a NumPy program to generate a random number between 0 and 1"
   ]
  },
  {
   "cell_type": "code",
   "execution_count": 17,
   "id": "3e902071-2a89-4a78-a9a8-6abd392df0fd",
   "metadata": {},
   "outputs": [],
   "source": [
    "def question7():\n",
    "    return np.random.normal(0,1,1)\n",
    "\n",
    "rand_num=question7()"
   ]
  },
  {
   "cell_type": "code",
   "execution_count": 18,
   "id": "22fcad2c-c68b-469c-9237-1c1b7aaf6f33",
   "metadata": {},
   "outputs": [
    {
     "data": {
      "text/plain": [
       "array([-0.52479648])"
      ]
     },
     "execution_count": 18,
     "metadata": {},
     "output_type": "execute_result"
    }
   ],
   "source": [
    "rand_num"
   ]
  },
  {
   "cell_type": "markdown",
   "id": "8b389f5f-2843-4abc-b03c-9eb35f6e7c0c",
   "metadata": {},
   "source": [
    "Q8- Write a NumPy program to generate an array of 15 random numbers from a standard normal\n",
    "distribution"
   ]
  },
  {
   "cell_type": "code",
   "execution_count": 19,
   "id": "9943d010-f422-4cfb-a265-476ad7ded27b",
   "metadata": {},
   "outputs": [],
   "source": [
    "rand_nums = np.random.normal(0,1,15)"
   ]
  },
  {
   "cell_type": "code",
   "execution_count": 20,
   "id": "cd43de01-ad9b-42ba-829b-ce9ff4fcfc30",
   "metadata": {},
   "outputs": [
    {
     "data": {
      "text/plain": [
       "array([-0.89432633,  1.49055467,  1.21445628, -1.51020469,  1.05862616,\n",
       "       -0.28746601,  0.85396997, -0.04132286,  0.98192782,  2.41422746,\n",
       "        0.75239368, -0.39165595, -2.09425775,  1.42444054, -0.91424897])"
      ]
     },
     "execution_count": 20,
     "metadata": {},
     "output_type": "execute_result"
    }
   ],
   "source": [
    "rand_nums"
   ]
  },
  {
   "cell_type": "markdown",
   "id": "b041b75b-34cb-4624-9be5-332a62cfdfc0",
   "metadata": {},
   "source": [
    "Q9- Write a NumPy program to create a vector with values ranging from 15 to 55 and print all values\n",
    "except the first and last."
   ]
  },
  {
   "cell_type": "code",
   "execution_count": 21,
   "id": "1cf411f7-f7d4-4513-aa97-55b1d9bb4893",
   "metadata": {},
   "outputs": [
    {
     "data": {
      "text/plain": [
       "array([16, 17, 18, 19, 20, 21, 22, 23, 24, 25, 26, 27, 28, 29, 30, 31, 32,\n",
       "       33, 34, 35, 36, 37, 38, 39, 40, 41, 42, 43, 44, 45, 46, 47, 48, 49,\n",
       "       50, 51, 52, 53, 54])"
      ]
     },
     "execution_count": 21,
     "metadata": {},
     "output_type": "execute_result"
    }
   ],
   "source": [
    "arr_q9=np.array(range(15,56))\n",
    "arr_q9[1:-1]"
   ]
  },
  {
   "cell_type": "markdown",
   "id": "1a3f948b-11ca-41e8-b821-5ff55bacb37d",
   "metadata": {},
   "source": [
    "Q10- Write a NumPy program to create a vector of length 5 filled with arbitrary integers from 0 to 10 "
   ]
  },
  {
   "cell_type": "code",
   "execution_count": 22,
   "id": "8b4f00a2-9250-450f-80e8-6df787b6e10a",
   "metadata": {},
   "outputs": [
    {
     "data": {
      "text/plain": [
       "array([7, 7, 5, 6, 9])"
      ]
     },
     "execution_count": 22,
     "metadata": {},
     "output_type": "execute_result"
    }
   ],
   "source": [
    "arr_q10=np.random.randint(0,11,5)\n",
    "arr_q10 "
   ]
  },
  {
   "cell_type": "markdown",
   "id": "98737cb8-e2b0-4fd9-8945-2f2edcc1570a",
   "metadata": {},
   "source": [
    "Q11- Write a NumPy program to create a 10x10 matrix, in which the elements on the borders will be equal\n",
    "to 1, and inside 0."
   ]
  },
  {
   "cell_type": "code",
   "execution_count": 23,
   "id": "42aa1805-7914-4b16-8eb3-7f4641fbcb32",
   "metadata": {},
   "outputs": [
    {
     "data": {
      "text/plain": [
       "array([[1., 1., 1., 1., 1., 1., 1., 1., 1., 1.],\n",
       "       [1., 0., 0., 0., 0., 0., 0., 0., 0., 1.],\n",
       "       [1., 0., 0., 0., 0., 0., 0., 0., 0., 1.],\n",
       "       [1., 0., 0., 0., 0., 0., 0., 0., 0., 1.],\n",
       "       [1., 0., 0., 0., 0., 0., 0., 0., 0., 1.],\n",
       "       [1., 0., 0., 0., 0., 0., 0., 0., 0., 1.],\n",
       "       [1., 0., 0., 0., 0., 0., 0., 0., 0., 1.],\n",
       "       [1., 0., 0., 0., 0., 0., 0., 0., 0., 1.],\n",
       "       [1., 0., 0., 0., 0., 0., 0., 0., 0., 1.],\n",
       "       [1., 1., 1., 1., 1., 1., 1., 1., 1., 1.]])"
      ]
     },
     "execution_count": 23,
     "metadata": {},
     "output_type": "execute_result"
    }
   ],
   "source": [
    "arr_q11=np.zeros((10,10))\n",
    "arr_q11[0,:]=1\n",
    "arr_q11[:,0]=1\n",
    "arr_q11[-1,:]=1\n",
    "arr_q11[:,-1]=1\n",
    "\n",
    "arr_q11"
   ]
  },
  {
   "cell_type": "markdown",
   "id": "079daf2a-9812-45c5-8d52-f667935b33f0",
   "metadata": {},
   "source": [
    "Q12- Write a NumPy program to create a 5x5 zero matrix with elements on the main diagonal equal to 1, 2,\n",
    "3, 4, 5."
   ]
  },
  {
   "cell_type": "code",
   "execution_count": 24,
   "id": "957756cb-9b97-41a3-88dd-6d3ffc217631",
   "metadata": {},
   "outputs": [],
   "source": [
    "arr_q12=np.diag([1,2,3,4,5])"
   ]
  },
  {
   "cell_type": "code",
   "execution_count": 25,
   "id": "ece263df-8cfb-49b3-ad4b-4d21a3e578e8",
   "metadata": {},
   "outputs": [
    {
     "data": {
      "text/plain": [
       "array([[1, 0, 0, 0, 0],\n",
       "       [0, 2, 0, 0, 0],\n",
       "       [0, 0, 3, 0, 0],\n",
       "       [0, 0, 0, 4, 0],\n",
       "       [0, 0, 0, 0, 5]])"
      ]
     },
     "execution_count": 25,
     "metadata": {},
     "output_type": "execute_result"
    }
   ],
   "source": [
    "arr_q12"
   ]
  },
  {
   "cell_type": "markdown",
   "id": "9db4aa48-0a6d-4612-816c-24824a00a8e2",
   "metadata": {},
   "source": [
    "Q13- Write a NumPy program to save two given arrays into a single file in compressed format (.npz format)\n",
    "and load it."
   ]
  },
  {
   "cell_type": "code",
   "execution_count": 26,
   "id": "9c423387-2e97-4118-835a-529976e5b59c",
   "metadata": {},
   "outputs": [],
   "source": [
    "arr1 = np.array([1,2,3,4,5])\n",
    "arr2 = np.array([1,2,3,4,5,6,7,8,9])\n",
    "np.savez('test.npz', first=arr1,second=arr2)"
   ]
  },
  {
   "cell_type": "code",
   "execution_count": 27,
   "id": "d70b670c-ad80-4d22-af74-93a2428e6d38",
   "metadata": {},
   "outputs": [],
   "source": [
    "with np.load('test.npz') as data:\n",
    "    first_arr = data['first']\n",
    "    second_arr = data['second']"
   ]
  },
  {
   "cell_type": "code",
   "execution_count": 28,
   "id": "ada1e002-99b1-49c7-978f-51ae8c13be81",
   "metadata": {},
   "outputs": [
    {
     "data": {
      "text/plain": [
       "array([1, 2, 3, 4, 5])"
      ]
     },
     "execution_count": 28,
     "metadata": {},
     "output_type": "execute_result"
    }
   ],
   "source": [
    "first_arr"
   ]
  },
  {
   "cell_type": "code",
   "execution_count": 29,
   "id": "07f4f2be-eb1d-4e49-997a-664b921528f0",
   "metadata": {},
   "outputs": [
    {
     "data": {
      "text/plain": [
       "array([1, 2, 3, 4, 5, 6, 7, 8, 9])"
      ]
     },
     "execution_count": 29,
     "metadata": {},
     "output_type": "execute_result"
    }
   ],
   "source": [
    "second_arr"
   ]
  },
  {
   "cell_type": "markdown",
   "id": "4486880a-be4f-43f4-91e3-f3f843b9e5a6",
   "metadata": {},
   "source": [
    "Q14- Write a NumPy program to create a 4x4 matrix in which 0 and 1 are staggered, with zeros on the main\n",
    "diagonal."
   ]
  },
  {
   "cell_type": "code",
   "execution_count": 32,
   "id": "745202e5-0038-4c7b-8634-3c90dea5fa3e",
   "metadata": {},
   "outputs": [
    {
     "data": {
      "text/plain": [
       "array([[0., 1., 0., 1.],\n",
       "       [1., 0., 1., 0.],\n",
       "       [0., 1., 0., 1.],\n",
       "       [1., 0., 1., 0.]])"
      ]
     },
     "execution_count": 32,
     "metadata": {},
     "output_type": "execute_result"
    }
   ],
   "source": [
    "arr_q14=np.zeros((4,4))\n",
    "arr_q14[::2, 1::2]=1\n",
    "arr_q14[1::2, ::2]=1\n",
    "\n",
    "\n",
    "arr_q14"
   ]
  },
  {
   "cell_type": "markdown",
   "id": "c9d5d4f6-fbbe-41cd-b915-447cea794d04",
   "metadata": {},
   "source": [
    "Q15- Write a NumPy program to create a one-dimensional array of forty pseudo-randomly generated values."
   ]
  },
  {
   "cell_type": "code",
   "execution_count": 31,
   "id": "07f31834-b941-4238-8617-ed264a703d1f",
   "metadata": {},
   "outputs": [
    {
     "data": {
      "text/plain": [
       "array([0.16459068, 0.14753667, 0.91147115, 0.18741787, 0.21089754,\n",
       "       0.94961073, 0.20946343, 0.89056888, 0.32254279, 0.64750268,\n",
       "       0.22732041, 0.12209514, 0.29486569, 0.38638372, 0.65668495,\n",
       "       0.700003  , 0.95322321, 0.91663289, 0.65027922, 0.37001251,\n",
       "       0.80143867, 0.41651727, 0.93892307, 0.87483297, 0.88098613,\n",
       "       0.06755342, 0.79437609, 0.43816714, 0.39279917, 0.80027881,\n",
       "       0.06586703, 0.93100494, 0.29305621, 0.74785625, 0.75967178,\n",
       "       0.21423982, 0.6570076 , 0.43733458, 0.14924614, 0.49093315])"
      ]
     },
     "execution_count": 31,
     "metadata": {},
     "output_type": "execute_result"
    }
   ],
   "source": [
    "arr_q15=np.random.rand(40)\n",
    "arr_q15"
   ]
  },
  {
   "cell_type": "markdown",
   "id": "94476bb6-13e0-48ef-aaee-f8aca43a3ab9",
   "metadata": {},
   "source": [
    "Q16- Write a NumPy program to extract all numbers from a given array which are less and greater than a\n",
    "specified number."
   ]
  },
  {
   "cell_type": "code",
   "execution_count": 30,
   "id": "182a1b03-29a1-459f-ba90-9b5d9e9c79c9",
   "metadata": {},
   "outputs": [
    {
     "data": {
      "text/plain": [
       "(array([1, 3, 4]), array([ 7,  6,  9, 30, 20]))"
      ]
     },
     "execution_count": 30,
     "metadata": {},
     "output_type": "execute_result"
    }
   ],
   "source": [
    "def question16(arr,num):\n",
    "    arr=np.array(arr)\n",
    "    \n",
    "    less=arr[arr < num]\n",
    "    greater=arr[arr > num]\n",
    "    \n",
    "    return less,greater\n",
    "   \n",
    "\n",
    "question16([[1, 3, 7],[5, 6, 9],[4, 30, 20]],5)\n"
   ]
  }
 ],
 "metadata": {
  "kernelspec": {
   "display_name": "Python 3 (ipykernel)",
   "language": "python",
   "name": "python3"
  },
  "language_info": {
   "codemirror_mode": {
    "name": "ipython",
    "version": 3
   },
   "file_extension": ".py",
   "mimetype": "text/x-python",
   "name": "python",
   "nbconvert_exporter": "python",
   "pygments_lexer": "ipython3",
   "version": "3.10.9"
  }
 },
 "nbformat": 4,
 "nbformat_minor": 5
}
