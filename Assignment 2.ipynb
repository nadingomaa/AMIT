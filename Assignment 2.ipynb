{
 "cells": [
  {
   "cell_type": "markdown",
   "metadata": {},
   "source": [
    "# Assignment 2\n",
    "Let's test your knowledge!"
   ]
  },
  {
   "cell_type": "markdown",
   "metadata": {},
   "source": [
    "_____\n",
    "**Use <code>for</code>, .split(), and <code>if</code> to create a Statement that will print out words that start with 's':**"
   ]
  },
  {
   "cell_type": "code",
   "execution_count": 1,
   "metadata": {},
   "outputs": [],
   "source": [
    "st = 'Print only the words that start with s in this sentence'"
   ]
  },
  {
   "cell_type": "code",
   "execution_count": 2,
   "metadata": {},
   "outputs": [
    {
     "name": "stdout",
     "output_type": "stream",
     "text": [
      "start\n",
      "s\n",
      "sentence\n"
     ]
    }
   ],
   "source": [
    "#Code here\n",
    "split_list=st.split(' ')\n",
    "for i in split_list:\n",
    "    if i[0]=='s':\n",
    "        print(i)"
   ]
  },
  {
   "cell_type": "markdown",
   "metadata": {},
   "source": [
    "______\n",
    "**Use range() to print all the even numbers from 0 to 10.**"
   ]
  },
  {
   "cell_type": "code",
   "execution_count": 3,
   "metadata": {},
   "outputs": [
    {
     "name": "stdout",
     "output_type": "stream",
     "text": [
      "0\n",
      "2\n",
      "4\n",
      "6\n",
      "8\n",
      "10\n"
     ]
    }
   ],
   "source": [
    "for i in range(0,11):\n",
    "    if i%2==0:\n",
    "        print(i)\n"
   ]
  },
  {
   "cell_type": "markdown",
   "metadata": {},
   "source": [
    "___\n",
    "**Use a List Comprehension to create a list of all numbers between 1 and 50 that are divisible by 3.**"
   ]
  },
  {
   "cell_type": "code",
   "execution_count": 4,
   "metadata": {},
   "outputs": [
    {
     "data": {
      "text/plain": [
       "[3, 6, 9, 12, 15, 18, 21, 24, 27, 30, 33, 36, 39, 42, 45, 48]"
      ]
     },
     "execution_count": 4,
     "metadata": {},
     "output_type": "execute_result"
    }
   ],
   "source": [
    "#Code Here\n",
    "new_list=[]\n",
    "for i in range(1,51):\n",
    "    if i%3==0:\n",
    "        new_list.append(i)\n",
    "        \n",
    "new_list"
   ]
  },
  {
   "cell_type": "markdown",
   "metadata": {},
   "source": [
    "_____\n",
    "**Go through the string below and if the length of a word is even print \"even!\"**"
   ]
  },
  {
   "cell_type": "code",
   "execution_count": 5,
   "metadata": {},
   "outputs": [],
   "source": [
    "st = 'Print every word in this sentence that has an even number of letters'"
   ]
  },
  {
   "cell_type": "code",
   "execution_count": 6,
   "metadata": {},
   "outputs": [
    {
     "name": "stdout",
     "output_type": "stream",
     "text": [
      "word -----it is even\n",
      "in -----it is even\n",
      "this -----it is even\n",
      "sentence -----it is even\n",
      "that -----it is even\n",
      "an -----it is even\n",
      "even -----it is even\n",
      "number -----it is even\n",
      "of -----it is even\n"
     ]
    }
   ],
   "source": [
    "#Code in this cell\n",
    "split_list=st.split(' ')\n",
    "for i in split_list:\n",
    "    if len(i)%2==0:\n",
    "        print(i,'-----it is even')"
   ]
  },
  {
   "cell_type": "markdown",
   "metadata": {},
   "source": [
    "____\n",
    "**Write a program that prints the integers from 1 to 100. But for multiples of three print \"Fizz\" instead of the number, and for the multiples of five print \"Buzz\". For numbers which are multiples of both three and five print \"FizzBuzz\".**"
   ]
  },
  {
   "cell_type": "code",
   "execution_count": 7,
   "metadata": {},
   "outputs": [
    {
     "name": "stdout",
     "output_type": "stream",
     "text": [
      "Fizz ---the number 3\n",
      "Buzz ---the number 5\n",
      "Fizz ---the number 6\n",
      "Fizz ---the number 9\n",
      "Buzz ---the number 10\n",
      "Fizz ---the number 12\n",
      "FizzBuzz ---the number 15\n",
      "Fizz ---the number 18\n",
      "Buzz ---the number 20\n",
      "Fizz ---the number 21\n",
      "Fizz ---the number 24\n",
      "Buzz ---the number 25\n",
      "Fizz ---the number 27\n",
      "FizzBuzz ---the number 30\n",
      "Fizz ---the number 33\n",
      "Buzz ---the number 35\n",
      "Fizz ---the number 36\n",
      "Fizz ---the number 39\n",
      "Buzz ---the number 40\n",
      "Fizz ---the number 42\n",
      "FizzBuzz ---the number 45\n",
      "Fizz ---the number 48\n",
      "Buzz ---the number 50\n",
      "Fizz ---the number 51\n",
      "Fizz ---the number 54\n",
      "Buzz ---the number 55\n",
      "Fizz ---the number 57\n",
      "FizzBuzz ---the number 60\n",
      "Fizz ---the number 63\n",
      "Buzz ---the number 65\n",
      "Fizz ---the number 66\n",
      "Fizz ---the number 69\n",
      "Buzz ---the number 70\n",
      "Fizz ---the number 72\n",
      "FizzBuzz ---the number 75\n",
      "Fizz ---the number 78\n",
      "Buzz ---the number 80\n",
      "Fizz ---the number 81\n",
      "Fizz ---the number 84\n",
      "Buzz ---the number 85\n",
      "Fizz ---the number 87\n",
      "FizzBuzz ---the number 90\n",
      "Fizz ---the number 93\n",
      "Buzz ---the number 95\n",
      "Fizz ---the number 96\n",
      "Fizz ---the number 99\n",
      "Buzz ---the number 100\n"
     ]
    }
   ],
   "source": [
    "#Code in this cell\n",
    "\n",
    "for i in range(1,101):\n",
    "    if i%5==0 and i%3==0:\n",
    "        print(\"FizzBuzz\",\"---the number {}\".format(i))\n",
    "    elif i%3==0:\n",
    "        print('Fizz',\"---the number {}\".format(i))\n",
    "    elif i%5==0:\n",
    "        print('Buzz',\"---the number {}\".format(i))\n"
   ]
  },
  {
   "cell_type": "markdown",
   "metadata": {},
   "source": [
    "____\n",
    "**Use List Comprehension to create a list of the first letters of every word in the string below:**"
   ]
  },
  {
   "cell_type": "code",
   "execution_count": 8,
   "metadata": {},
   "outputs": [],
   "source": [
    "st = 'Create a list of the first letters of every word in this string'"
   ]
  },
  {
   "cell_type": "code",
   "execution_count": 9,
   "metadata": {},
   "outputs": [
    {
     "data": {
      "text/plain": [
       "['C', 'a', 'l', 'o', 't', 'f', 'l', 'o', 'e', 'w', 'i', 't', 's']"
      ]
     },
     "execution_count": 9,
     "metadata": {},
     "output_type": "execute_result"
    }
   ],
   "source": [
    "#Code in this cell\n",
    "new_list=[]\n",
    "split_list=st.split(' ')\n",
    "for i in split_list:\n",
    "     new_list.append(i[0])\n",
    "new_list"
   ]
  },
  {
   "cell_type": "markdown",
   "metadata": {},
   "source": [
    "### Great Job!"
   ]
  }
 ],
 "metadata": {
  "kernelspec": {
   "display_name": "Python 3 (ipykernel)",
   "language": "python",
   "name": "python3"
  },
  "language_info": {
   "codemirror_mode": {
    "name": "ipython",
    "version": 3
   },
   "file_extension": ".py",
   "mimetype": "text/x-python",
   "name": "python",
   "nbconvert_exporter": "python",
   "pygments_lexer": "ipython3",
   "version": "3.9.13"
  }
 },
 "nbformat": 4,
 "nbformat_minor": 4
}
