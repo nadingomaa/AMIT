{
 "cells": [
  {
   "cell_type": "markdown",
   "id": "75ee98d8-9055-444f-a140-264aba6b96db",
   "metadata": {},
   "source": [
    "# Scissors Paper Brick Game :"
   ]
  },
  {
   "cell_type": "raw",
   "id": "b2c565de-4108-4d8f-82fa-69b3bc30cd6f",
   "metadata": {},
   "source": [
    "Rules :\n",
    "    enter s if you want scissors\n",
    "    enter p if you want paper\n",
    "    enter b if you want brick \n"
   ]
  },
  {
   "cell_type": "code",
   "execution_count": 7,
   "id": "30d0a04e-03ca-439e-893e-7daf4692203e",
   "metadata": {},
   "outputs": [
    {
     "name": "stdin",
     "output_type": "stream",
     "text": [
      "Start Game .. s\n"
     ]
    },
    {
     "name": "stdout",
     "output_type": "stream",
     "text": [
      "you wiiiiiinnn\n",
      "-------------------\n",
      "Computer : p\n",
      "You      : s\n"
     ]
    }
   ],
   "source": [
    "your_hand=input(\"Start Game ..\").lower()\n",
    "\"\"\"\n",
    "---------------------\n",
    "\"\"\"\n",
    "import random\n",
    "game_list=['s','p','b']\n",
    "computer_hand=random.choice(game_list)\n",
    "\n",
    "\"\"\"\n",
    "---------------------\n",
    "\"\"\"\n",
    "\n",
    "if your_hand=='s':\n",
    "    if computer_hand =='p' :\n",
    "        print('you wiiiiiinnn')\n",
    "    elif computer_hand=='s' :\n",
    "        print(\"No one win ...Play Again ..\")\n",
    "    else:\n",
    "         print('computer wiiiiiinnn')\n",
    "            \n",
    "    \"\"\"\n",
    "      ---------------------\n",
    "    \"\"\"\n",
    "            \n",
    "elif your_hand=='p':\n",
    "    if computer_hand =='p' :\n",
    "        print(\"No one win ...Play Again ..\")\n",
    "    elif computer_hand=='s' :\n",
    "        print('computer wiiiiiinnn')\n",
    "    else:\n",
    "         print('you wiiiiiinnn')\n",
    "            \n",
    "    \"\"\"\n",
    "    ---------------------\n",
    "    \"\"\"\n",
    "            \n",
    "elif your_hand=='b':\n",
    "    if computer_hand =='b' :\n",
    "        print(\"No one win ...Play Again ..\")\n",
    "    elif computer_hand=='p' :\n",
    "        print('computer wiiiiiinnn')\n",
    "    else:\n",
    "         print('you wiiiiiinnn')\n",
    "            \n",
    "    \"\"\"\n",
    "    ---------------------\n",
    "    \"\"\"\n",
    "    \n",
    "else:\n",
    "    print(\"Enter S or R or P\")\n",
    "    \n",
    "\n",
    "    \"\"\"\n",
    "    ---------------------\n",
    "    \"\"\"\n",
    "    \n",
    "print(\"-------------------\")\n",
    "print(\"Computer :\",computer_hand)\n",
    "print(\"You      :\",your_hand)\n",
    "        "
   ]
  },
  {
   "cell_type": "code",
   "execution_count": null,
   "id": "52028779-aa5e-4cb6-81e9-80f66c00724c",
   "metadata": {},
   "outputs": [],
   "source": []
  }
 ],
 "metadata": {
  "kernelspec": {
   "display_name": "Python 3 (ipykernel)",
   "language": "python",
   "name": "python3"
  },
  "language_info": {
   "codemirror_mode": {
    "name": "ipython",
    "version": 3
   },
   "file_extension": ".py",
   "mimetype": "text/x-python",
   "name": "python",
   "nbconvert_exporter": "python",
   "pygments_lexer": "ipython3",
   "version": "3.9.13"
  }
 },
 "nbformat": 4,
 "nbformat_minor": 5
}
